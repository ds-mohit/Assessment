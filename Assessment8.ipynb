{
 "cells": [
  {
   "cell_type": "markdown",
   "id": "dd35fcbd",
   "metadata": {},
   "source": [
    "# Assignment 8\n",
    "\n",
    "## 1. What is Pandas and how does it differ from NumPy? What are its main data structures?\n",
    "**Pandas** is a powerful Python library used for data manipulation and analysis. It provides two primary data structures:\n",
    "- `Series`: One-dimensional labeled array.\n",
    "- `DataFrame`: Two-dimensional labeled data structure (like a table).\n",
    "\n",
    "**Difference from NumPy:**\n",
    "- NumPy focuses on numerical operations on arrays.\n",
    "- Pandas provides more flexible data handling, including support for heterogeneous data types, missing data handling, and labeling.\n"
   ]
  },
  {
   "cell_type": "code",
   "execution_count": null,
   "id": "5ecf5ba3",
   "metadata": {},
   "outputs": [],
   "source": [
    "import pandas as pd\n",
    "\n",
    "# Coding Challenge\n",
    "data = {\n",
    "    'Name': ['Aman', 'Binod', 'Chetan'],\n",
    "    'Age': [25, 30, 35],\n",
    "    'City': ['New Delhi', 'jaipur', 'Chandigarh']\n",
    "}\n",
    "df = pd.DataFrame(data)\n",
    "print(df.head())"
   ]
  },
  {
   "cell_type": "markdown",
   "id": "a042e6f0",
   "metadata": {},
   "source": [
    "\n",
    "## 2. How can you read and write data to various file formats (e.g., CSV, Excel) using Pandas?\n",
    "Pandas provides convenient functions like `read_csv()`, `to_csv()`, `read_excel()`, `to_excel()`.\n"
   ]
  },
  {
   "cell_type": "code",
   "execution_count": null,
   "id": "f6088da6",
   "metadata": {},
   "outputs": [],
   "source": [
    "import pandas as pd\n",
    "\n",
    "# Coding Challenge\n",
    "df = pd.read_csv('data.csv')  # Read CSV\n",
    "df.dropna(inplace=True)  # Remove rows with missing values\n",
    "df.to_excel('cleaned_data.xlsx', index=False)  # Write to Excel"
   ]
  },
  {
   "cell_type": "markdown",
   "id": "cfd021b2",
   "metadata": {},
   "source": [
    "\n",
    "## 3. What are some common methods for indexing and selecting data in a Pandas DataFrame?\n",
    "- `.loc[]`: label-based selection\n",
    "- `.iloc[]`: integer-location based selection\n",
    "- Boolean indexing: using conditions\n"
   ]
  },
  {
   "cell_type": "code",
   "execution_count": null,
   "id": "bf41036e",
   "metadata": {},
   "outputs": [],
   "source": [
    "import pandas as pd\n",
    "\n",
    "data = {'Name': ['Ajay', 'Vinod', 'Chotu'], 'Age': [25, 30, 35]}\n",
    "df = pd.DataFrame(data)\n",
    "\n",
    "# Coding Challenge\n",
    "print(df.loc[0, 'Name'])           # Using loc\n",
    "print(df.iloc[1, 1])               # Using iloc\n",
    "print(df[df['Age'] > 25])         # Boolean indexing"
   ]
  },
  {
   "cell_type": "markdown",
   "id": "a8fbc271",
   "metadata": {},
   "source": [
    "\n",
    "## 4. How can you handle missing data in a Pandas DataFrame?\n",
    "Methods:\n",
    "- `fillna()`: Fill missing values\n",
    "- `dropna()`: Remove rows/columns with missing data\n"
   ]
  },
  {
   "cell_type": "code",
   "execution_count": null,
   "id": "2d5bd373",
   "metadata": {},
   "outputs": [],
   "source": [
    "import pandas as pd\n",
    "import numpy as np\n",
    "\n",
    "df = pd.DataFrame({\n",
    "    'A': [1, 2, np.nan],\n",
    "    'B': [4, np.nan, 6]\n",
    "})\n",
    "\n",
    "# Coding Challenge\n",
    "print(df.fillna(0))\n",
    "print(df.dropna())"
   ]
  },
  {
   "cell_type": "markdown",
   "id": "cb6503a8",
   "metadata": {},
   "source": [
    "\n",
    "## 5. Explain how to perform data aggregation and grouping in Pandas.\n",
    "Use `.groupby()` to split the data into groups and compute aggregate functions like `mean()`, `sum()`.\n"
   ]
  },
  {
   "cell_type": "code",
   "execution_count": null,
   "id": "5a61418b",
   "metadata": {},
   "outputs": [],
   "source": [
    "import pandas as pd\n",
    "\n",
    "data = {\n",
    "    'Category': ['A', 'B', 'A', 'B'],\n",
    "    'Values': [10, 20, 30, 40]\n",
    "}\n",
    "df = pd.DataFrame(data)\n",
    "\n",
    "# Coding Challenge\n",
    "print(df.groupby('Category').mean())\n",
    "print(df.groupby('Category').sum())"
   ]
  },
  {
   "cell_type": "markdown",
   "id": "979126e2",
   "metadata": {},
   "source": [
    "\n",
    "## 6. How can you merge, join, or concatenate multiple DataFrames in Pandas?\n",
    "- `merge()`: merge on common columns or indices\n",
    "- `join()`: join DataFrames using index\n",
    "- `concat()`: concatenate along axis\n"
   ]
  },
  {
   "cell_type": "code",
   "execution_count": null,
   "id": "b879037f",
   "metadata": {},
   "outputs": [],
   "source": [
    "import pandas as pd\n",
    "\n",
    "df1 = pd.DataFrame({'ID': [1, 2], 'Name': ['Alice', 'Bob']})\n",
    "df2 = pd.DataFrame({'ID': [1, 2], 'Age': [25, 30]})\n",
    "\n",
    "# Coding Challenge\n",
    "print(pd.merge(df1, df2, on='ID'))\n",
    "print(df1.join(df2.set_index('ID'), on='ID'))\n",
    "print(pd.concat([df1, df2], axis=1))"
   ]
  },
  {
   "cell_type": "markdown",
   "id": "5f991385",
   "metadata": {},
   "source": [
    "\n",
    "## 7. What are Pandas' `pivot_table` and `crosstab` functions?\n",
    "- `pivot_table()`: creates a spreadsheet-style pivot table.\n",
    "- `crosstab()`: shows frequency count of two categorical variables.\n"
   ]
  },
  {
   "cell_type": "code",
   "execution_count": null,
   "id": "e55ea787",
   "metadata": {},
   "outputs": [],
   "source": [
    "import pandas as pd\n",
    "\n",
    "df = pd.DataFrame({\n",
    "    'Category': ['A', 'A', 'B', 'B'],\n",
    "    'Type': ['X', 'Y', 'X', 'Y'],\n",
    "    'Value': [10, 20, 30, 40]\n",
    "})\n",
    "\n",
    "# Coding Challenge\n",
    "print(pd.pivot_table(df, values='Value', index='Category', columns='Type', aggfunc='sum'))\n",
    "print(pd.crosstab(df['Category'], df['Type']))"
   ]
  },
  {
   "cell_type": "markdown",
   "id": "2c83899e",
   "metadata": {},
   "source": [
    "\n",
    "## 8. How can you apply custom functions to columns or rows in a Pandas DataFrame?\n",
    "Use `.apply()` to apply a function across axis or elements.\n"
   ]
  },
  {
   "cell_type": "code",
   "execution_count": null,
   "id": "e4cc7707",
   "metadata": {},
   "outputs": [],
   "source": [
    "import pandas as pd\n",
    "\n",
    "df = pd.DataFrame({'Numbers': [1, 2, 3, 4]})\n",
    "\n",
    "# Coding Challenge\n",
    "def square(x):\n",
    "    return x * x\n",
    "\n",
    "df['Squared'] = df['Numbers'].apply(square)\n",
    "print(df)"
   ]
  },
  {
   "cell_type": "markdown",
   "id": "254efbe0",
   "metadata": {},
   "source": [
    "\n",
    "## 9. Explain how to sort and filter data in a Pandas DataFrame.\n",
    "Use `sort_values()` for sorting, and boolean conditions for filtering.\n"
   ]
  },
  {
   "cell_type": "code",
   "execution_count": null,
   "id": "d90c2b06",
   "metadata": {},
   "outputs": [],
   "source": [
    "import pandas as pd\n",
    "\n",
    "df = pd.DataFrame({\n",
    "    'Name': ['Alice', 'Bob', 'Charlie'],\n",
    "    'Age': [25, 30, 35],\n",
    "    'Salary': [50000, 60000, 70000]\n",
    "})\n",
    "\n",
    "# Coding Challenge\n",
    "print(df.sort_values(by=['Age', 'Salary'], ascending=[True, False]))\n",
    "print(df[df['Salary'] > 55000])"
   ]
  },
  {
   "cell_type": "markdown",
   "id": "5d9bf6da",
   "metadata": {},
   "source": [
    "\n",
    "## 10. How can you handle and process categorical data in Pandas?\n",
    "Use `pd.get_dummies()` to convert to numerical format and `.astype('category')` for categorizing.\n"
   ]
  },
  {
   "cell_type": "code",
   "execution_count": null,
   "id": "7fe78ebd",
   "metadata": {},
   "outputs": [],
   "source": [
    "import pandas as pd\n",
    "\n",
    "df = pd.DataFrame({\n",
    "    'Category': ['A', 'B', 'A', 'C']\n",
    "})\n",
    "\n",
    "# Coding Challenge\n",
    "dummies = pd.get_dummies(df['Category'])\n",
    "print(dummies)\n",
    "df['Category'] = df['Category'].astype('category')\n",
    "print(df['Category'])"
   ]
  }
 ],
 "metadata": {
  "language_info": {
   "name": "python"
  }
 },
 "nbformat": 4,
 "nbformat_minor": 5
}
