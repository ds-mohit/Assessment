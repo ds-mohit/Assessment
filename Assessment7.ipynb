{
 "cells": [
  {
   "cell_type": "markdown",
   "metadata": {},
   "source": [
    "# Assignment 7\n"
   ]
  },
  {
   "cell_type": "markdown",
   "metadata": {},
   "source": [
    "### 1. What is NumPy and what are its main advantages over regular Python lists?\n",
    "NumPy (Numerical Python) is a powerful library for numerical computations in Python. It provides support for large multi-dimensional arrays and matrices, along with a collection of mathematical functions to operate on these arrays efficiently.\n",
    "\n",
    "**Advantages over regular Python lists:**\n",
    "- Faster performance using optimized C code under the hood\n",
    "- Requires less memory\n",
    "- Supports vectorized operations\n",
    "- Convenient for matrix and linear algebra operations"
   ]
  },
  {
   "cell_type": "code",
   "execution_count": 1,
   "metadata": {},
   "outputs": [
    {
     "name": "stdout",
     "output_type": "stream",
     "text": [
      "Original Array: [1 2 3 4]\n",
      "Addition: [3 4 5 6]\n",
      "Multiplication: [ 3  6  9 12]\n"
     ]
    }
   ],
   "source": [
    "import numpy as np\n",
    "\n",
    "# Coding Challenge\n",
    "arr = np.array([1, 2, 3, 4])\n",
    "print(\"Original Array:\", arr)\n",
    "print(\"Addition:\", arr + 2)\n",
    "print(\"Multiplication:\", arr * 3)"
   ]
  },
  {
   "cell_type": "markdown",
   "metadata": {},
   "source": [
    "### 2. Creating different types of arrays"
   ]
  },
  {
   "cell_type": "code",
   "execution_count": 2,
   "metadata": {},
   "outputs": [
    {
     "name": "stdout",
     "output_type": "stream",
     "text": [
      "Zeros:\n",
      " [[0. 0. 0.]\n",
      " [0. 0. 0.]\n",
      " [0. 0. 0.]]\n",
      "Ones:\n",
      " [[1. 1. 1.]\n",
      " [1. 1. 1.]\n",
      " [1. 1. 1.]]\n",
      "Random Integers:\n",
      " [[4 4 7]\n",
      " [1 8 9]\n",
      " [9 1 7]]\n"
     ]
    }
   ],
   "source": [
    "# Zeros, Ones, Random Integers\n",
    "zeros = np.zeros((3, 3))\n",
    "ones = np.ones((3, 3))\n",
    "randoms = np.random.randint(1, 11, size=(3, 3))\n",
    "print(\"Zeros:\\n\", zeros)\n",
    "print(\"Ones:\\n\", ones)\n",
    "print(\"Random Integers:\\n\", randoms)"
   ]
  },
  {
   "cell_type": "markdown",
   "metadata": {},
   "source": [
    "### 3. Indexing and Slicing in NumPy"
   ]
  },
  {
   "cell_type": "code",
   "execution_count": 3,
   "metadata": {},
   "outputs": [
    {
     "name": "stdout",
     "output_type": "stream",
     "text": [
      "Original 4x4 Array:\n",
      " [[ 0  1  2  3]\n",
      " [ 4  5  6  7]\n",
      " [ 8  9 10 11]\n",
      " [12 13 14 15]]\n",
      "2x2 Subarray:\n",
      " [[ 5  6]\n",
      " [ 9 10]]\n"
     ]
    }
   ],
   "source": [
    "# 2D slicing\n",
    "array2d = np.arange(16).reshape(4, 4)\n",
    "print(\"Original 4x4 Array:\\n\", array2d)\n",
    "subarray = array2d[1:3, 1:3]\n",
    "print(\"2x2 Subarray:\\n\", subarray)"
   ]
  },
  {
   "cell_type": "markdown",
   "metadata": {},
   "source": [
    "### 4. Statistical Functions: Mean, Median, Std Dev"
   ]
  },
  {
   "cell_type": "code",
   "execution_count": 4,
   "metadata": {},
   "outputs": [
    {
     "name": "stdout",
     "output_type": "stream",
     "text": [
      "Mean: 0.4446438146416248\n",
      "Median: 0.42167635551961646\n",
      "Standard Deviation: 0.2968791733125041\n"
     ]
    }
   ],
   "source": [
    "data = np.random.rand(100)\n",
    "print(\"Mean:\", np.mean(data))\n",
    "print(\"Median:\", np.median(data))\n",
    "print(\"Standard Deviation:\", np.std(data))"
   ]
  },
  {
   "cell_type": "markdown",
   "metadata": {},
   "source": [
    "### 5. Element-wise and Matrix Operations"
   ]
  },
  {
   "cell_type": "code",
   "execution_count": 5,
   "metadata": {},
   "outputs": [
    {
     "name": "stdout",
     "output_type": "stream",
     "text": [
      "Element-wise Addition:\n",
      " [[ 6  8]\n",
      " [10 12]]\n",
      "Element-wise Subtraction:\n",
      " [[-4 -4]\n",
      " [-4 -4]]\n",
      "Matrix Multiplication:\n",
      " [[19 22]\n",
      " [43 50]]\n"
     ]
    }
   ],
   "source": [
    "A = np.array([[1, 2], [3, 4]])\n",
    "B = np.array([[5, 6], [7, 8]])\n",
    "\n",
    "print(\"Element-wise Addition:\\n\", A + B)\n",
    "print(\"Element-wise Subtraction:\\n\", A - B)\n",
    "print(\"Matrix Multiplication:\\n\", np.dot(A, B))"
   ]
  },
  {
   "cell_type": "markdown",
   "metadata": {},
   "source": [
    "### 6. Broadcasting in NumPy"
   ]
  },
  {
   "cell_type": "code",
   "execution_count": 6,
   "metadata": {},
   "outputs": [
    {
     "name": "stdout",
     "output_type": "stream",
     "text": [
      "Matrix + Vector:\n",
      " [[2. 3. 4.]\n",
      " [2. 3. 4.]\n",
      " [2. 3. 4.]]\n"
     ]
    }
   ],
   "source": [
    "matrix = np.ones((3, 3))\n",
    "vector = np.array([1, 2, 3])\n",
    "print(\"Matrix + Vector:\\n\", matrix + vector)  # Broadcasting"
   ]
  },
  {
   "cell_type": "markdown",
   "metadata": {},
   "source": [
    "### 7. Handling NaN values in NumPy"
   ]
  },
  {
   "cell_type": "code",
   "execution_count": 7,
   "metadata": {},
   "outputs": [
    {
     "name": "stdout",
     "output_type": "stream",
     "text": [
      "Array with NaNs replaced by mean: [1.   2.   3.25 4.   3.25 6.  ]\n"
     ]
    }
   ],
   "source": [
    "arr_with_nan = np.array([1, 2, np.nan, 4, np.nan, 6])\n",
    "mean_val = np.nanmean(arr_with_nan)\n",
    "arr_filled = np.where(np.isnan(arr_with_nan), mean_val, arr_with_nan)\n",
    "print(\"Array with NaNs replaced by mean:\", arr_filled)"
   ]
  },
  {
   "cell_type": "markdown",
   "metadata": {},
   "source": [
    "### 8. reshape() and flatten() methods"
   ]
  },
  {
   "cell_type": "code",
   "execution_count": 8,
   "metadata": {},
   "outputs": [
    {
     "name": "stdout",
     "output_type": "stream",
     "text": [
      "Reshaped 3x4:\n",
      " [[ 0  1  2  3]\n",
      " [ 4  5  6  7]\n",
      " [ 8  9 10 11]]\n",
      "Flattened back to 1D: [ 0  1  2  3  4  5  6  7  8  9 10 11]\n"
     ]
    }
   ],
   "source": [
    "arr1d = np.arange(12)\n",
    "reshaped = arr1d.reshape((3, 4))\n",
    "flattened = reshaped.flatten()\n",
    "print(\"Reshaped 3x4:\\n\", reshaped)\n",
    "print(\"Flattened back to 1D:\", flattened)"
   ]
  },
  {
   "cell_type": "markdown",
   "metadata": {},
   "source": [
    "### 9. numpy.linalg for linear algebra"
   ]
  },
  {
   "cell_type": "code",
   "execution_count": 9,
   "metadata": {},
   "outputs": [
    {
     "name": "stdout",
     "output_type": "stream",
     "text": [
      "Inverse:\n",
      " [[ 0.3 -0.2]\n",
      " [-0.1  0.4]]\n",
      "Eigenvalues: [5. 2.]\n",
      "Eigenvectors:\n",
      " [[ 0.89442719 -0.70710678]\n",
      " [ 0.4472136   0.70710678]]\n"
     ]
    }
   ],
   "source": [
    "from numpy.linalg import inv, eig\n",
    "\n",
    "matrix = np.array([[4, 2], [1, 3]])\n",
    "inverse = inv(matrix)\n",
    "eigen_vals, eigen_vecs = eig(matrix)\n",
    "\n",
    "print(\"Inverse:\\n\", inverse)\n",
    "print(\"Eigenvalues:\", eigen_vals)\n",
    "print(\"Eigenvectors:\\n\", eigen_vecs)"
   ]
  },
  {
   "cell_type": "markdown",
   "metadata": {},
   "source": [
    "### 10. Saving and Loading NumPy arrays"
   ]
  },
  {
   "cell_type": "code",
   "execution_count": 10,
   "metadata": {},
   "outputs": [
    {
     "name": "stdout",
     "output_type": "stream",
     "text": [
      "Loaded Array: [10 20 30]\n"
     ]
    }
   ],
   "source": [
    "# Save and Load\n",
    "arr_to_save = np.array([10, 20, 30])\n",
    "np.save(\"saved_array.npy\", arr_to_save)\n",
    "loaded_array = np.load(\"saved_array.npy\")\n",
    "print(\"Loaded Array:\", loaded_array)"
   ]
  }
 ],
 "metadata": {
  "kernelspec": {
   "display_name": "Python 3",
   "language": "python",
   "name": "python3"
  },
  "language_info": {
   "codemirror_mode": {
    "name": "ipython",
    "version": 3
   },
   "file_extension": ".py",
   "mimetype": "text/x-python",
   "name": "python",
   "nbconvert_exporter": "python",
   "pygments_lexer": "ipython3",
   "version": "3.11.9"
  }
 },
 "nbformat": 4,
 "nbformat_minor": 2
}
