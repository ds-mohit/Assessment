{
 "cells": [
  {
   "cell_type": "markdown",
   "id": "38a9cb6c",
   "metadata": {},
   "source": [
    "# ```Numpy ```"
   ]
  },
  {
   "cell_type": "markdown",
   "id": "755e07c5",
   "metadata": {},
   "source": [
    "### ```Numpy``` is a third party library for analyzing the data."
   ]
  },
  {
   "cell_type": "code",
   "execution_count": 2,
   "id": "26498d1f",
   "metadata": {},
   "outputs": [
    {
     "data": {
      "text/plain": [
       "array([1, 2, 3])"
      ]
     },
     "execution_count": 2,
     "metadata": {},
     "output_type": "execute_result"
    }
   ],
   "source": [
    "import numpy as np # alias means nickname\n",
    "a=np.array([1,2,3])# 1-d array means elements in a single row\n",
    "a"
   ]
  },
  {
   "cell_type": "code",
   "execution_count": 3,
   "id": "f315b373",
   "metadata": {},
   "outputs": [
    {
     "data": {
      "text/plain": [
       "(numpy.ndarray, array([1, 2, 3, 4]))"
      ]
     },
     "execution_count": 3,
     "metadata": {},
     "output_type": "execute_result"
    }
   ],
   "source": [
    "lst=[1,2,3,4]\n",
    "arr=np.array(lst) # convert list to array\n",
    "type(arr),arr"
   ]
  },
  {
   "cell_type": "code",
   "execution_count": 4,
   "id": "6c7d1745",
   "metadata": {},
   "outputs": [
    {
     "data": {
      "text/plain": [
       "array([1, 2, 3, 4, 5, 6, 7, 8, 9])"
      ]
     },
     "execution_count": 4,
     "metadata": {},
     "output_type": "execute_result"
    }
   ],
   "source": [
    "a=np.arange(1,10)#using range function to print numbers from 1 to 9\n",
    "a"
   ]
  },
  {
   "cell_type": "code",
   "execution_count": 5,
   "id": "9f196f37",
   "metadata": {},
   "outputs": [
    {
     "data": {
      "text/plain": [
       "array([2, 4, 6])"
      ]
     },
     "execution_count": 5,
     "metadata": {},
     "output_type": "execute_result"
    }
   ],
   "source": [
    "a=np.array([1, 2, 3])\n",
    "b=np.array([1,2,3])\n",
    "a+b"
   ]
  },
  {
   "cell_type": "code",
   "execution_count": 6,
   "id": "2a4093be",
   "metadata": {},
   "outputs": [
    {
     "name": "stdout",
     "output_type": "stream",
     "text": [
      "[1.]\n",
      "[[1. 1.]\n",
      " [1. 1.]]\n",
      "[0. 0.]\n"
     ]
    },
    {
     "data": {
      "text/plain": [
       "array([[0., 0., 0.],\n",
       "       [0., 0., 0.],\n",
       "       [0., 0., 0.]])"
      ]
     },
     "execution_count": 6,
     "metadata": {},
     "output_type": "execute_result"
    }
   ],
   "source": [
    "l=np.ones(1)#1-d array\n",
    "print(l)\n",
    "a=np.ones([2,2])#2-d array\n",
    "print(a)\n",
    "b=np.zeros(2)\n",
    "print(b)\n",
    "c=np.zeros([3,3])\n",
    "c"
   ]
  },
  {
   "cell_type": "code",
   "execution_count": 7,
   "id": "b6b0baba",
   "metadata": {},
   "outputs": [
    {
     "name": "stdout",
     "output_type": "stream",
     "text": [
      "[[1 2 3]\n",
      " [4 5 6]]\n"
     ]
    }
   ],
   "source": [
    "a=np.array([[1, 2, 3], [4, 5, 6]])\n",
    "print(a)\n"
   ]
  },
  {
   "cell_type": "code",
   "execution_count": 8,
   "id": "0fcd93ae",
   "metadata": {},
   "outputs": [
    {
     "data": {
      "text/plain": [
       "array([ 1.  ,  3.25,  5.5 ,  7.75, 10.  ])"
      ]
     },
     "execution_count": 8,
     "metadata": {},
     "output_type": "execute_result"
    }
   ],
   "source": [
    "h=np.linspace(1,10,5) #1 to 10 with 5 equally spaced numbers\n",
    "h"
   ]
  },
  {
   "cell_type": "code",
   "execution_count": 9,
   "id": "5a858f39",
   "metadata": {},
   "outputs": [
    {
     "data": {
      "text/plain": [
       "array([[ 1,  2,  3,  4,  5,  6],\n",
       "       [ 7,  8,  9, 10, 11, 12],\n",
       "       [13, 14, 15, 16, 17, 18],\n",
       "       [19, 20, 21, 22, 23, 24],\n",
       "       [25, 26, 27, 28, 29, 30]])"
      ]
     },
     "execution_count": 9,
     "metadata": {},
     "output_type": "execute_result"
    }
   ],
   "source": [
    "num=np.arange(1,31).reshape(5,6) # 5 rows and 6 columns means 5x6 matrix here it converts a 1-d array to a 2-d array with specified shape\n",
    "num"
   ]
  },
  {
   "cell_type": "code",
   "execution_count": 10,
   "id": "fc09be82",
   "metadata": {},
   "outputs": [
    {
     "data": {
      "text/plain": [
       "array([0.75416171, 0.16686048, 0.6351426 , 0.11959129, 0.53064751,\n",
       "       0.21793672, 0.09553603, 0.77189715, 0.96561355, 0.72506111])"
      ]
     },
     "execution_count": 10,
     "metadata": {},
     "output_type": "execute_result"
    }
   ],
   "source": [
    "arr1=np.random.random(10)# 10 random floats between 0 and 1\n",
    "arr1"
   ]
  },
  {
   "cell_type": "code",
   "execution_count": 26,
   "id": "101b2c9a",
   "metadata": {},
   "outputs": [
    {
     "name": "stdout",
     "output_type": "stream",
     "text": [
      "(5, 12) int64\n"
     ]
    },
    {
     "data": {
      "text/plain": [
       "array([[ 1.        ,  2.28571429],\n",
       "       [ 3.57142857,  4.85714286],\n",
       "       [ 6.14285714,  7.42857143],\n",
       "       [ 8.71428571, 10.        ]])"
      ]
     },
     "execution_count": 26,
     "metadata": {},
     "output_type": "execute_result"
    }
   ],
   "source": [
    "arr=np.arange(1,61).reshape(5,12)\n",
    "arr\n",
    "print((arr.shape),(arr.dtype))#data type\n",
    "arr.size # total number of elements in the array\n",
    "arr.ndim #dimension of array\n",
    "arr1=np.linspace(1,10,8).reshape(4,2)\n",
    "arr1"
   ]
  },
  {
   "cell_type": "code",
   "execution_count": 12,
   "id": "bccc872c",
   "metadata": {},
   "outputs": [
    {
     "data": {
      "text/plain": [
       "array([ 1,  2,  3,  4,  5,  6,  7,  8,  9, 10])"
      ]
     },
     "execution_count": 12,
     "metadata": {},
     "output_type": "execute_result"
    }
   ],
   "source": [
    "g=np.arange(1,11).reshape(5,2) # 5 rows and 2 columns\n",
    "h=g.ravel()\n",
    "h\n",
    "g=np.arange(1,11).reshape(5,2).ravel()#converting 2-d into 1-d\n",
    "g\n",
    "i=np.arange(1,11).reshape(5,2).flatten() # flattening the array(1-d array)\n",
    "i"
   ]
  },
  {
   "cell_type": "code",
   "execution_count": 13,
   "id": "d9024913",
   "metadata": {},
   "outputs": [
    {
     "data": {
      "text/plain": [
       "(2, 5)"
      ]
     },
     "execution_count": 13,
     "metadata": {},
     "output_type": "execute_result"
    }
   ],
   "source": [
    "#transpose of an array\n",
    "arr=np.arange(1,11).reshape(5,2)\n",
    "a=arr.T.shape\n",
    "a\n"
   ]
  },
  {
   "cell_type": "code",
   "execution_count": 27,
   "id": "a8bbf09a",
   "metadata": {},
   "outputs": [
    {
     "name": "stdout",
     "output_type": "stream",
     "text": [
      "1\n",
      "[2 3 4 5]\n",
      "[ 2  4  6  8 10]\n",
      "[ 1  2  3 10  5  6  7  8  9 10]\n"
     ]
    }
   ],
   "source": [
    "# indexing and slicing\n",
    "arr=np.arange(1,11)\n",
    "print(arr[0])# indexing element\n",
    "print(arr[1:5])# slicing from index 1 to 4\n",
    "print(arr[1:11:2])# slicing from index 1 to 4 with step size of 2\n",
    "arr[3]=10 # changing the value at index 3\n",
    "print(arr) # modified array after changing the value at index 3"
   ]
  },
  {
   "cell_type": "code",
   "execution_count": 15,
   "id": "d90de7a1",
   "metadata": {},
   "outputs": [
    {
     "name": "stdout",
     "output_type": "stream",
     "text": [
      "[[1 2 3]\n",
      " [4 5 6]\n",
      " [7 8 9]]\n",
      "3\n",
      "[[4 5 6]\n",
      " [7 8 9]]\n",
      "[[1 2]\n",
      " [4 5]]\n",
      "(2, 2)\n"
     ]
    }
   ],
   "source": [
    "arr=np.array([[1,2,3],[4,5,6],[7,8,9]])\n",
    "print(arr)\n",
    "print(arr[0,2]) # accessing element at row 0, column 2\n",
    "print(arr[1:3, 0:3]) # slicing rows 1 to 2 and columns 0 to 2\n",
    "print(arr[0:2, 0:2]) # slicing rows 0 to 1 and columns 0 to 1\n",
    "print(arr[0:2, 0:2].shape) # shape of the sliced array"
   ]
  },
  {
   "cell_type": "code",
   "execution_count": 16,
   "id": "571a8eab",
   "metadata": {},
   "outputs": [
    {
     "name": "stdout",
     "output_type": "stream",
     "text": [
      "2\n",
      "int64\n"
     ]
    }
   ],
   "source": [
    "arr=np.array([[1,2,3],[4,5,6],[7,8,9]])\n",
    "print(arr[0,1]) # accessing element at row 0, column 1\n",
    "print(arr.dtype)"
   ]
  },
  {
   "cell_type": "code",
   "execution_count": 17,
   "id": "f88b756d",
   "metadata": {},
   "outputs": [
    {
     "name": "stdout",
     "output_type": "stream",
     "text": [
      "[[7 8 9]\n",
      " [4 5 6]\n",
      " [1 2 3]]\n",
      "[[3 2 1]\n",
      " [6 5 4]\n",
      " [9 8 7]]\n",
      "[[7 8 9]\n",
      " [4 5 6]\n",
      " [1 2 3]]\n"
     ]
    }
   ],
   "source": [
    "arr=np.array([[1,2,3],[4,5,6],[7,8,9]])\n",
    "print(arr[::-1]) # reversing the array\n",
    "print(arr[:, ::-1]) # reversing the columns of the array\n",
    "print(arr[::-1,:]) # reversing the rows of the array"
   ]
  },
  {
   "cell_type": "code",
   "execution_count": 18,
   "id": "70ede64f",
   "metadata": {},
   "outputs": [
    {
     "name": "stdout",
     "output_type": "stream",
     "text": [
      "[[[ 1  2  3]\n",
      "  [ 4  5  6]]\n",
      "\n",
      " [[ 7  8  9]\n",
      "  [10 11 12]]]\n"
     ]
    }
   ],
   "source": [
    "# 3-d array\n",
    "arr=np.array([[[1,2,3],[4,5,6]],[[7,8,9],[10,11,12]]])\n",
    "print(arr)"
   ]
  },
  {
   "cell_type": "code",
   "execution_count": 19,
   "id": "f7600a9e",
   "metadata": {},
   "outputs": [
    {
     "name": "stdout",
     "output_type": "stream",
     "text": [
      "(2, 5, 4)\n",
      "[[[ 0  1  2  3]\n",
      "  [ 4  5  6  7]\n",
      "  [ 8  9 10 11]\n",
      "  [12 13 14 15]\n",
      "  [16 17 18 19]]\n",
      "\n",
      " [[20 21 22 23]\n",
      "  [24 25 26 27]\n",
      "  [28 29 30 31]\n",
      "  [32 33 34 35]\n",
      "  [36 37 38 39]]]\n"
     ]
    }
   ],
   "source": [
    "# creating a 3-d array with specific shape\n",
    "arr=np.arange(40).reshape(2,5,4)# 3-d array with 2 layers, 5 rows, and 4 columns\n",
    "print(arr.shape) # shape of the 3-d array\n",
    "print(arr)"
   ]
  },
  {
   "cell_type": "code",
   "execution_count": 20,
   "id": "3c03daa6",
   "metadata": {},
   "outputs": [
    {
     "name": "stdout",
     "output_type": "stream",
     "text": [
      "[[[6 3 2 8]\n",
      "  [2 1 2 8]\n",
      "  [7 9 7 1]]\n",
      "\n",
      " [[7 3 5 4]\n",
      "  [2 4 8 1]\n",
      "  [5 8 9 3]]]\n",
      "[[[0.97199604 0.5960982  0.51088443 0.34155616]\n",
      "  [0.93842091 0.25747642 0.94105285 0.5324394 ]\n",
      "  [0.66715852 0.38474485 0.62253748 0.57636344]]\n",
      "\n",
      " [[0.95007236 0.89367711 0.72180914 0.09361558]\n",
      "  [0.88800621 0.11080571 0.05654526 0.04943541]\n",
      "  [0.56455106 0.3354065  0.27355093 0.38788458]]]\n"
     ]
    }
   ],
   "source": [
    "# creating a 3-d array with random integers\n",
    "arr=np.random.randint(1,10, size=(2,3,4)) # 2 layers, 3 rows, and 4 columns with random integers between 1 and 10\n",
    "print(arr)\n",
    "# creating a 3-d array with random floats\n",
    "arr=np.random.random((2,3,4)) # 2 layers, 3 rows, and 4 columns with random floats between 0 and 1\n",
    "print(arr)"
   ]
  },
  {
   "cell_type": "code",
   "execution_count": null,
   "id": "067235ed",
   "metadata": {},
   "outputs": [
    {
     "name": "stdout",
     "output_type": "stream",
     "text": [
      "[[[ 1  2  3  4]\n",
      "  [ 5  6  7  8]\n",
      "  [ 9 10 11 12]]\n",
      "\n",
      " [[13 14 15 16]\n",
      "  [17 18 19 20]\n",
      "  [21 22 23 24]]]\n",
      "19\n",
      "[[ 6  7  8]\n",
      " [10 11 12]]\n"
     ]
    }
   ],
   "source": [
    "# slicing in the 3-d array\n",
    "arr=np.arange(1,25).reshape(2,3,4) # creating a 3-d array with shape (2, 3, 4)\n",
    "print(arr)\n",
    "print(arr[1, 1, 2]) # accessing element at layer 0, row 1, column 2\n",
    "print(arr[0, 1:4, 1:5]) # slicing all elements in layer 0\n"
   ]
  },
  {
   "cell_type": "code",
   "execution_count": 22,
   "id": "ab067a7c",
   "metadata": {},
   "outputs": [
    {
     "name": "stdout",
     "output_type": "stream",
     "text": [
      "[3 4 5]\n",
      "[3 6 9]\n",
      "[5 7 9]\n",
      "[-3 -3 -3]\n",
      "[ 4 10 18]\n",
      "[0.25 0.4  0.5 ]\n",
      "[1 4 9]\n",
      "2.0\n",
      "2.0\n",
      "0.816496580927726\n",
      "0.6666666666666666\n"
     ]
    },
    {
     "data": {
      "text/plain": [
       "array([0, 1, 4, 2, 3, 5])"
      ]
     },
     "execution_count": 22,
     "metadata": {},
     "output_type": "execute_result"
    }
   ],
   "source": [
    "# common operations on arrays\n",
    "arr1 = np.array([1, 2, 3])\n",
    "arr2 = np.array([4, 5, 6])  \n",
    "print(arr1+2)  # adding 2 to each element\n",
    "print(arr1 * 3)  # multiplying each element by 3\n",
    "print(arr1 + arr2)  # element-wise addition\n",
    "print(arr1 - arr2)  # element-wise subtraction\n",
    "print(arr1 * arr2)  # element-wise multiplication\n",
    "print(arr1 / arr2)  # element-wise division\n",
    "print(arr1 ** 2)    # element-wise exponentiation\n",
    "print(np.mean(arr1))  # mean of the array\n",
    "print(np.median(arr1))  # median of the array   \n",
    "print(np.std(arr1))  # standard deviation of the array\n",
    "print(np.var(arr1))  # variance of the array\n",
    "arr3=np.array([2,3,5,6,4,8])\n",
    "arr3.argsort()# returns the indices that would sort the array\n",
    "\n",
    "\n"
   ]
  },
  {
   "cell_type": "code",
   "execution_count": 25,
   "id": "8be65c6c",
   "metadata": {},
   "outputs": [
    {
     "data": {
      "text/plain": [
       "array([[ 1. ,  2.8,  4.6],\n",
       "       [ 6.4,  8.2, 10. ]])"
      ]
     },
     "execution_count": 25,
     "metadata": {},
     "output_type": "execute_result"
    }
   ],
   "source": [
    "y=np.linspace(1,10,6).reshape(2,3)\n",
    "y"
   ]
  },
  {
   "cell_type": "code",
   "execution_count": null,
   "id": "b12ba4d2",
   "metadata": {},
   "outputs": [],
   "source": []
  }
 ],
 "metadata": {
  "kernelspec": {
   "display_name": "Python 3",
   "language": "python",
   "name": "python3"
  },
  "language_info": {
   "codemirror_mode": {
    "name": "ipython",
    "version": 3
   },
   "file_extension": ".py",
   "mimetype": "text/x-python",
   "name": "python",
   "nbconvert_exporter": "python",
   "pygments_lexer": "ipython3",
   "version": "3.11.9"
  }
 },
 "nbformat": 4,
 "nbformat_minor": 5
}
